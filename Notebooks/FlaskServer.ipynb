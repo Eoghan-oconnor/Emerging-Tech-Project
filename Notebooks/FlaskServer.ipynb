{
 "cells": [
  {
   "cell_type": "markdown",
   "metadata": {},
   "source": [
    "# Flask Server\n",
    "Adapated from http://flask.palletsprojects.com/en/1.1.x/tutorial/<br>\n",
    "Adapted from: https://github.com/ianmcloughlin/random-web-app\n",
    "\n",
    "## This is for explaination only to run the application please refer to the README.\n",
    "\n",
    "# Flask\n",
    "Flask is a micro web framework written in Python. It is classified as a microframework because it does not require particular tools or libraries.<br> \n",
    "It has no database abstraction layer, form validation, or any other components where pre-existing third-party libraries provide common functions"
   ]
  },
  {
   "cell_type": "code",
   "execution_count": 1,
   "metadata": {},
   "outputs": [],
   "source": [
    "## Importing Flask as fl\n",
    "from flask import Flask as fl\n",
    "from flask import render_template\n",
    "# Numpy \n",
    "import numpy as np\n",
    "# base64 from encoding \n",
    "import base64\n",
    "# Tensorflow to use the model.h5\n",
    "import tensorflow as tf\n",
    "# PIL is a python imaging library\n",
    "from PIL import ImageOps, Image\n"
   ]
  },
  {
   "cell_type": "code",
   "execution_count": 2,
   "metadata": {},
   "outputs": [],
   "source": [
    "# This section runs the Main application \n",
    "app = fl(__name__)\n",
    "\n",
    "## Gives working directory for webpage\n",
    "@app.route('/')\n",
    "def hello():\n",
    "    return render_template('app/frontend/Home.html')\n",
    "\n",
    "    if __name__ == '__main__': \n",
    "        app.run()\n",
    " "
   ]
  },
  {
   "cell_type": "markdown",
   "metadata": {},
   "source": [
    "## Routing in Flask \n",
    "https://hackersandslackers.com/flask-routes/<br>\n",
    "@app.route links the flask app to the associated method, In the Javascript file the submit button registers a<br>\n",
    "Post it sends the encoded image to the server."
   ]
  },
  {
   "cell_type": "code",
   "execution_count": null,
   "metadata": {},
   "outputs": [],
   "source": [
    "# Routes the application to POST and GET request.\n",
    "@app.route('/image', methods=['GET', 'POST'])\n",
    "def image():\n",
    "    # retirve image from  request\n",
    "    userImage = request.values['imageData']\n",
    "    # Prints image to screen\n",
    "    print(userImage)\n",
    "    # Adds endcoded to variable without the first 22 characters \n",
    "    # Saves Image \n",
    "    decodedImage = base64.b64decode(userImage[22:])\n",
    "    with open (\"image.png\", \"wb\") as f:\n",
    "        f.write(decodedImage)\n",
    "    # laods the model\n",
    "    model = load_model()\n",
    "\n",
    "    # Reshape image to suit model better \n",
    "    reshapedImage = reshape()\n",
    "    \n",
    "    # Passes the reshaped image to the predict method\n",
    "    prediction_array = model.predict(reshapedImage)\n",
    "    # argmax reutrns the maximum values along an axis.\n",
    "    prediction = np.argmax(prediction_array)\n",
    "    # Prints prediction to the console \n",
    "    print(prediction)\n",
    "    # Returns the prediction to the JS File.\n",
    "    return{\"prediction\": str(prediction)}"
   ]
  },
  {
   "cell_type": "markdown",
   "metadata": {},
   "source": [
    "## Methods "
   ]
  },
  {
   "cell_type": "code",
   "execution_count": null,
   "metadata": {},
   "outputs": [],
   "source": [
    "# Load model loads the JSON File thta contains the model and returns the model.\n",
    "def load_model():\n",
    "    jsonModel = open('model.json', 'r')\n",
    "    loadModel = jsonModel.read()\n",
    "    jsonModel.close()\n",
    "    loadedModel = tf.keras.models.model_from_json(loadModel)\n",
    "    \n",
    "    loadedModel.load_weights('model.h5')\n",
    "    print('Loaded')\n",
    "    return loadedModel\n",
    "# Predict method takes in the image array and the model and uses the argmax python function\n",
    "# to determine the number.\n",
    "def predict(model, image_array):\n",
    "    prediction_array = model.predict(image_array)\n",
    "    prediction = np.argmax(prediction_array)\n",
    "    return prediction\n",
    "# Reshape, Adapted from the below link, resizes the image to 28 * 28, as that is what the mnist dataset images are\n",
    "def reshape():\n",
    "    # Adapted from: https://dev.to/preslavrachev/python-resizing-and-fitting-an-image-to-an-exact-size-13ic\n",
    "    ogImage = Image.open('image.png').convert(\"L\")\n",
    "    size = 28, 28\n",
    "    ogImage = ImageOps.fit(ogImage, size, Image.ANTIALIAS)\n",
    "    img_array = np.array(ogImage).reshape(1, 28, 28, 1)\n",
    "    return img_array"
   ]
  }
 ],
 "metadata": {
  "kernelspec": {
   "display_name": "Python 3",
   "language": "python",
   "name": "python3"
  },
  "language_info": {
   "codemirror_mode": {
    "name": "ipython",
    "version": 3
   },
   "file_extension": ".py",
   "mimetype": "text/x-python",
   "name": "python",
   "nbconvert_exporter": "python",
   "pygments_lexer": "ipython3",
   "version": "3.7.3"
  }
 },
 "nbformat": 4,
 "nbformat_minor": 4
}
