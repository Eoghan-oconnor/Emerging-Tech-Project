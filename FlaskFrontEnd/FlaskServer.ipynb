{
 "cells": [
  {
   "cell_type": "markdown",
   "metadata": {},
   "source": [
    "## Flask Server\n",
    "Adapated from http://flask.palletsprojects.com/en/1.1.x/tutorial/<br>\n",
    "Adapted from: https://github.com/ianmcloughlin/random-web-app"
   ]
  },
  {
   "cell_type": "code",
   "execution_count": 6,
   "metadata": {},
   "outputs": [],
   "source": [
    "## Importing Flask as fl\n",
    "from flask import Flask as fl\n",
    "from flask import render_template\n",
    "\n",
    "## Numpy \n",
    "import numpy as np\n",
    "\n",
    "## base64 from encoding \n",
    "import base64\n",
    "\n",
    "## Tensorflow to use the model.h5\n",
    "import tensorflow as tf\n",
    "\n",
    "## PIL is a %%python imaging library\n",
    "from PIL import ImageOps, Image\n",
    "\n",
    "\n",
    "\n"
   ]
  },
  {
   "cell_type": "code",
   "execution_count": 7,
   "metadata": {},
   "outputs": [],
   "source": [
    "# This section runs the Main application \n",
    "app = fl(__name__)\n",
    "\n",
    "## Gives working directory for webpage\n",
    "@app.route('/')\n",
    "def hello():\n",
    "    return render_template('app/frontend/Home.html')\n",
    "\n",
    "    if __name__ == '__main__': \n",
    "        app.run()\n",
    "        \n",
    "    # getting uploaded image from the js \n",
    "@app.route('/image', methods=['GET', 'POST'])\n",
    "def image():\n",
    "    # retirve image from  request\n",
    "    userImage = fl.request.values['image']\n",
    "    \n",
    "    print(userImage)\n",
    "    \n",
    "    decodedImage = base64.b64decode(image[22:])\n",
    "    \n",
    "    with open (\"image.png\", \"wb\") as f:\n",
    "        f.write(decodedImage)\n",
    "        \n",
    "    model = load_model()\n",
    "        \n",
    "    #prediction_array = model.predict(image_to_predict)\n",
    "    #prediction = np.argmax(prediction_array)\n",
    "  \n",
    "    print(prediction)\n",
    "    return{\"prediction\": str(prediction)}\n",
    "    \n",
    "    def load_model():\n",
    "        jsonModel = open('model.json', 'r')\n",
    "        loadModel = jsonModel.read()\n",
    "        jsonModel.close()\n",
    "        loadedModel = tf.keras.models.model_from_json(loadModel)\n",
    "        \n",
    "        loadedModel.load_weights('model.h5')\n",
    "        print('Loaded')\n",
    "        return loadedModel\n",
    "    \n",
    " "
   ]
  },
  {
   "cell_type": "code",
   "execution_count": null,
   "metadata": {},
   "outputs": [],
   "source": []
  }
 ],
 "metadata": {
  "kernelspec": {
   "display_name": "Python 3",
   "language": "python",
   "name": "python3"
  },
  "language_info": {
   "codemirror_mode": {
    "name": "ipython",
    "version": 3
   },
   "file_extension": ".py",
   "mimetype": "text/x-python",
   "name": "python",
   "nbconvert_exporter": "python",
   "pygments_lexer": "ipython3",
   "version": "3.7.3"
  }
 },
 "nbformat": 4,
 "nbformat_minor": 4
}
