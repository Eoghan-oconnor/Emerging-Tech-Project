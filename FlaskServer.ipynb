{
 "cells": [
  {
   "cell_type": "markdown",
   "metadata": {},
   "source": [
    "## Flask Server\n",
    "Adapated from http://flask.palletsprojects.com/en/1.1.x/tutorial/<br>\n",
    "Adapted from: https://github.com/ianmcloughlin/random-web-app"
   ]
  },
  {
   "cell_type": "code",
   "execution_count": 1,
   "metadata": {},
   "outputs": [],
   "source": [
    "## Importing Flask as fl\n",
    "from flask import Flask as fl\n",
    "from flask import render_template\n",
    "\n",
    "\n",
    "\n",
    "\n",
    "\n"
   ]
  },
  {
   "cell_type": "code",
   "execution_count": 2,
   "metadata": {},
   "outputs": [],
   "source": [
    "# This section runs the Main application \n",
    "app = fl(__name__)\n",
    "\n",
    "## Gives working directory for webpage\n",
    "@app.route('/')\n",
    "def hello():\n",
    "    return render_template('app/frontend/Home.html')\n",
    "\n",
    "    if __name__ == '__main__': \n",
    "        app.run()\n",
    " "
   ]
  },
  {
   "cell_type": "code",
   "execution_count": null,
   "metadata": {},
   "outputs": [],
   "source": []
  }
 ],
 "metadata": {
  "kernelspec": {
   "display_name": "Python 3",
   "language": "python",
   "name": "python3"
  },
  "language_info": {
   "codemirror_mode": {
    "name": "ipython",
    "version": 3
   },
   "file_extension": ".py",
   "mimetype": "text/x-python",
   "name": "python",
   "nbconvert_exporter": "python",
   "pygments_lexer": "ipython3",
   "version": "3.7.3"
  }
 },
 "nbformat": 4,
 "nbformat_minor": 4
}
